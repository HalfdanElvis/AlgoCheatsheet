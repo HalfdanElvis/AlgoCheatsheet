{
 "cells": [
  {
   "cell_type": "code",
   "execution_count": 78,
   "id": "b81109ba",
   "metadata": {},
   "outputs": [],
   "source": [
    "def heapify_down(heap, index):\n",
    "    size = len(heap)\n",
    "    largest = index\n",
    "    left = 2 * index + 1\n",
    "    right = 2 * index + 2\n",
    "\n",
    "    # Check if left child exists and is greater than current largest\n",
    "    if left < size and heap[left] > heap[largest]:\n",
    "        largest = left\n",
    "\n",
    "    # Check if right child exists and is greater than current largest\n",
    "    if right < size and heap[right] > heap[largest]:\n",
    "        largest = right\n",
    "\n",
    "    # If largest is not the current node, swap and continue heapifying down\n",
    "    if largest != index:\n",
    "        heap[largest], heap[index] = heap[index], heap[largest]\n",
    "        heapify_down(heap, largest)\n",
    "\n",
    "def heapify_up(heap, index):\n",
    "    while index > 0:\n",
    "        parent = (index - 1) // 2\n",
    "        if heap[index] > heap[parent]:\n",
    "            heap[index], heap[parent] = heap[parent], heap[index]\n",
    "            index = parent\n",
    "        else:\n",
    "            break\n",
    "\n",
    "\n",
    "\n",
    "def extractMax(H):\n",
    "    maxValueIndex = 0\n",
    "    for i in range(len(H)):\n",
    "        if H[i] > H[maxValueIndex]:\n",
    "            maxValueIndex = H[i]\n",
    "    H[maxValueIndex] = H[-1]\n",
    "    heapify_down(H, 0)\n",
    "    H.pop()\n",
    "    return H\n",
    "\n",
    "\n",
    "def heapInsert(H, x):\n",
    "    H.append(x)\n",
    "    heapify_up(H, len(H) - 1)\n",
    "    return H\n"
   ]
  },
  {
   "cell_type": "code",
   "execution_count": 80,
   "id": "16459678",
   "metadata": {},
   "outputs": [
    {
     "name": "stdout",
     "output_type": "stream",
     "text": [
      "H: [21, 8, 7, 1, 5, 4]\n",
      "H1: [8, 5, 7, 1, 4]\n",
      "H2: [29, 8, 21, 1, 5, 4, 7]\n"
     ]
    }
   ],
   "source": [
    "H = [21,8,7,1,5,4]\n",
    "\n",
    "\n",
    "print(\"H:\", H)  # Should print the heap after extraction and insertion\n",
    "\n",
    "H1 = extractMax(H.copy())\n",
    "\n",
    "print(\"H1:\", H1)  # Should print the heap after extracting max\n",
    "\n",
    "H2 = heapInsert(H.copy(), 29)\n",
    "\n",
    "print(\"H2:\", H2)  # Should print the heap after inserting a new element \n",
    "\n",
    "\n"
   ]
  }
 ],
 "metadata": {
  "kernelspec": {
   "display_name": "nyt_env",
   "language": "python",
   "name": "python3"
  },
  "language_info": {
   "codemirror_mode": {
    "name": "ipython",
    "version": 3
   },
   "file_extension": ".py",
   "mimetype": "text/x-python",
   "name": "python",
   "nbconvert_exporter": "python",
   "pygments_lexer": "ipython3",
   "version": "3.13.0"
  }
 },
 "nbformat": 4,
 "nbformat_minor": 5
}
